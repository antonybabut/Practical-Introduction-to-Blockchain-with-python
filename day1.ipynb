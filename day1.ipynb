{
  "nbformat": 4,
  "nbformat_minor": 0,
  "metadata": {
    "colab": {
      "name": "Untitled0.ipynb",
      "provenance": [],
      "authorship_tag": "ABX9TyNLRwr6Lwt6ps9FQ3Iv4cnO",
      "include_colab_link": true
    },
    "kernelspec": {
      "name": "python3",
      "display_name": "Python 3"
    },
    "language_info": {
      "name": "python"
    }
  },
  "cells": [
    {
      "cell_type": "markdown",
      "metadata": {
        "id": "view-in-github",
        "colab_type": "text"
      },
      "source": [
        "<a href=\"https://colab.research.google.com/github/antonybabut/Practical-Introduction-to-Blockchain-with-python/blob/main/day1.ipynb\" target=\"_parent\"><img src=\"https://colab.research.google.com/assets/colab-badge.svg\" alt=\"Open In Colab\"/></a>"
      ]
    },
    {
      "cell_type": "code",
      "execution_count": 1,
      "metadata": {
        "id": "DMbY1Cdlu5c7"
      },
      "outputs": [],
      "source": [
        "x='antony babu'"
      ]
    },
    {
      "cell_type": "code",
      "source": [
        "hash(x)"
      ],
      "metadata": {
        "colab": {
          "base_uri": "https://localhost:8080/"
        },
        "id": "TfWG-gIpvAK9",
        "outputId": "4a569ff0-16d5-41bd-8b86-b116af0a6e38"
      },
      "execution_count": 2,
      "outputs": [
        {
          "output_type": "execute_result",
          "data": {
            "text/plain": [
              "2091932847674547264"
            ]
          },
          "metadata": {},
          "execution_count": 2
        }
      ]
    },
    {
      "cell_type": "code",
      "source": [
        "x=\"antony babu\""
      ],
      "metadata": {
        "id": "Ee0kTFTbvIkL"
      },
      "execution_count": 3,
      "outputs": []
    },
    {
      "cell_type": "code",
      "source": [
        "hash(x)"
      ],
      "metadata": {
        "colab": {
          "base_uri": "https://localhost:8080/"
        },
        "id": "4PCgoUS-vN0D",
        "outputId": "8632d576-586b-49fd-897c-49b1d01fe860"
      },
      "execution_count": 4,
      "outputs": [
        {
          "output_type": "execute_result",
          "data": {
            "text/plain": [
              "2091932847674547264"
            ]
          },
          "metadata": {},
          "execution_count": 4
        }
      ]
    },
    {
      "cell_type": "code",
      "source": [
        "x=\"ab\""
      ],
      "metadata": {
        "id": "kcMp-xRwvQ4E"
      },
      "execution_count": 5,
      "outputs": []
    },
    {
      "cell_type": "code",
      "source": [
        "hash(x)"
      ],
      "metadata": {
        "colab": {
          "base_uri": "https://localhost:8080/"
        },
        "id": "K63sqj1JvntL",
        "outputId": "558c6f24-8326-446a-c5bb-d91b7eee4b2a"
      },
      "execution_count": 6,
      "outputs": [
        {
          "output_type": "execute_result",
          "data": {
            "text/plain": [
              "1905871772275190126"
            ]
          },
          "metadata": {},
          "execution_count": 6
        }
      ]
    },
    {
      "cell_type": "code",
      "source": [
        "str_val = 'Hello Sahrdaya'\n",
        " \n",
        "print(\"The string hash value is : \" + str(hash(str_val)))"
      ],
      "metadata": {
        "colab": {
          "base_uri": "https://localhost:8080/"
        },
        "id": "DaQq-H11vpsD",
        "outputId": "bcd7ec90-5871-416d-b053-9f4fc6cde0ee"
      },
      "execution_count": 7,
      "outputs": [
        {
          "output_type": "stream",
          "name": "stdout",
          "text": [
            "The string hash value is : 7509430280836749795\n"
          ]
        }
      ]
    },
    {
      "cell_type": "code",
      "source": [
        "!pip install pycrypto\n",
        "!pip install pycryptodome"
      ],
      "metadata": {
        "colab": {
          "base_uri": "https://localhost:8080/"
        },
        "id": "NNnmsOKUwyUb",
        "outputId": "4f5b2d0a-0f64-44d5-de7e-b83055bc326a"
      },
      "execution_count": 8,
      "outputs": [
        {
          "output_type": "stream",
          "name": "stdout",
          "text": [
            "Looking in indexes: https://pypi.org/simple, https://us-python.pkg.dev/colab-wheels/public/simple/\n",
            "Requirement already satisfied: pycrypto in /usr/local/lib/python3.7/dist-packages (2.6.1)\n",
            "Looking in indexes: https://pypi.org/simple, https://us-python.pkg.dev/colab-wheels/public/simple/\n",
            "Requirement already satisfied: pycryptodome in /usr/local/lib/python3.7/dist-packages (3.15.0)\n"
          ]
        }
      ]
    },
    {
      "cell_type": "code",
      "source": [
        "from hashlib import sha256\n",
        "\n",
        "hash_func = lambda x: sha256(x.encode('utf-8')).hexdigest()"
      ],
      "metadata": {
        "id": "Um_OqLLLy46y"
      },
      "execution_count": 9,
      "outputs": []
    },
    {
      "cell_type": "code",
      "source": [
        "class Block:\n",
        "  def __init__(self, data, prev):\n",
        "    self.data = data\n",
        "    self.prev = prev\n",
        "    if prev is not None:\n",
        "      self.hashed_prev_data = hash_func(prev.data)"
      ],
      "metadata": {
        "id": "ib_79b050HMS"
      },
      "execution_count": 10,
      "outputs": []
    },
    {
      "cell_type": "code",
      "source": [
        "class Blockchain:\n",
        "  def __init__(self):\n",
        "    self.head = Block('genesis', None)\n",
        "  def add_block(self, data):\n",
        "        self.head = Block(data, self.head)"
      ],
      "metadata": {
        "id": "Kr-c8xdX1FJq"
      },
      "execution_count": 11,
      "outputs": []
    },
    {
      "cell_type": "code",
      "source": [
        "def verify_chain(chain):\n",
        "  curr = chain.head\n",
        "  print(curr.data)\n",
        "  while curr.prev is not None:\n",
        "    if curr.hashed_prev_data != hash_func(curr.prev.data):\n",
        "      print(f'*{curr.prev.data}')\n",
        "    else :\n",
        "      print(curr.prev.data)\n",
        "      curr = curr.prev"
      ],
      "metadata": {
        "id": "QgDBcKmM12x6"
      },
      "execution_count": 12,
      "outputs": []
    },
    {
      "cell_type": "code",
      "source": [
        "chain = Blockchain()"
      ],
      "metadata": {
        "id": "madzAG3k24Vx"
      },
      "execution_count": 13,
      "outputs": []
    },
    {
      "cell_type": "code",
      "source": [
        "chain.add_block('antony babu')"
      ],
      "metadata": {
        "id": "Vpyz18kw3BAg"
      },
      "execution_count": 14,
      "outputs": []
    },
    {
      "cell_type": "code",
      "source": [
        "verify_chain(chain)"
      ],
      "metadata": {
        "colab": {
          "base_uri": "https://localhost:8080/"
        },
        "id": "t_9pgne43h75",
        "outputId": "5cb0c711-b812-4281-b128-6457bf652cfd"
      },
      "execution_count": 15,
      "outputs": [
        {
          "output_type": "stream",
          "name": "stdout",
          "text": [
            "antony babu\n",
            "genesis\n"
          ]
        }
      ]
    },
    {
      "cell_type": "code",
      "source": [
        "chain.add_block('messi')"
      ],
      "metadata": {
        "id": "CEK4tpxu3qbk"
      },
      "execution_count": 16,
      "outputs": []
    },
    {
      "cell_type": "code",
      "source": [
        "verify_chain(chain)"
      ],
      "metadata": {
        "colab": {
          "base_uri": "https://localhost:8080/"
        },
        "id": "LMdfF1h0352A",
        "outputId": "4472c9ee-84bc-44ba-9344-7211fc978d7d"
      },
      "execution_count": 17,
      "outputs": [
        {
          "output_type": "stream",
          "name": "stdout",
          "text": [
            "messi\n",
            "antony babu\n",
            "genesis\n"
          ]
        }
      ]
    },
    {
      "cell_type": "code",
      "source": [
        ""
      ],
      "metadata": {
        "id": "9NnowT2c3_l4"
      },
      "execution_count": 17,
      "outputs": []
    }
  ]
}